{
  "nbformat": 4,
  "nbformat_minor": 0,
  "metadata": {
    "colab": {
      "provenance": []
    },
    "kernelspec": {
      "name": "python3",
      "display_name": "Python 3"
    },
    "language_info": {
      "name": "python"
    }
  },
  "cells": [
    {
      "cell_type": "markdown",
      "source": [
        "#**Functions**\n",
        "\n",
        "Name: Susmita Halder Saha\n",
        "Assignment name: Function\n",
        "Github Link:"
      ],
      "metadata": {
        "id": "3KbRvslM5ztD"
      }
    },
    {
      "cell_type": "markdown",
      "source": [
        "## Assignment 3"
      ],
      "metadata": {
        "id": "HkW_Ov8X6DIN"
      }
    },
    {
      "cell_type": "markdown",
      "source": [
        "Theory Questions:"
      ],
      "metadata": {
        "id": "fnaX4cOE6Joi"
      }
    },
    {
      "cell_type": "markdown",
      "source": [
        "1  What is the difference between a function and a method in Python?\n",
        " - A function is a block of code that is defined using the def keyword and can be called independently.Functions are not tied to any specific object.\n",
        " - A method is a function that is defined inside a class and is associated with an object of that class. It operates on the data (attributes) within the class.\n",
        " Methods are called on an object and typically interact with or manipulate the object's attributes."
      ],
      "metadata": {
        "id": "_Ftw39lx6jTg"
      }
    },
    {
      "cell_type": "code",
      "source": [
        "#function\n",
        "def my_function(arg1, arg2):\n",
        "    return arg1 + arg2\n",
        "\n",
        "result = my_function(5, 3)\n",
        "\n",
        "print(result)"
      ],
      "metadata": {
        "colab": {
          "base_uri": "https://localhost:8080/"
        },
        "id": "rppfzAlP_2l6",
        "outputId": "3c994c5d-1cd9-4556-94db-474ea94f3d9f"
      },
      "execution_count": null,
      "outputs": [
        {
          "output_type": "stream",
          "name": "stdout",
          "text": [
            "8\n"
          ]
        }
      ]
    },
    {
      "cell_type": "code",
      "source": [
        "# Method\n",
        "class MyClass:\n",
        "    def my_method(self, arg1, arg2):\n",
        "        return arg1 + arg2\n",
        "\n",
        "obj = MyClass()\n",
        "result = obj.my_method(5, 3)\n",
        "print(result)"
      ],
      "metadata": {
        "colab": {
          "base_uri": "https://localhost:8080/"
        },
        "id": "RKvC8AvjAPEo",
        "outputId": "1eb05d84-b894-44ed-e157-f6f15a05c270"
      },
      "execution_count": null,
      "outputs": [
        {
          "output_type": "stream",
          "name": "stdout",
          "text": [
            "8\n"
          ]
        }
      ]
    },
    {
      "cell_type": "markdown",
      "source": [
        "2  Explain the concept of function arguments and parameters in Python.\n",
        " -  Parameters are the placeholders or variables defined in the function header. They act as inputs to the function and specify what data the function expects when called.\n"
      ],
      "metadata": {
        "id": "LONP8g3CAjEo"
      }
    },
    {
      "cell_type": "code",
      "source": [
        "def introduce(name, age):\n",
        "    print(f\"My name is {name}, and I am {age} years old.\")\n",
        "\n",
        "introduce(age=20, name=\"Anmol\")\n"
      ],
      "metadata": {
        "colab": {
          "base_uri": "https://localhost:8080/"
        },
        "id": "qxyzkrVXAw0t",
        "outputId": "f61123d5-f333-4d82-d6b7-3e9ad77f2e97"
      },
      "execution_count": null,
      "outputs": [
        {
          "output_type": "stream",
          "name": "stdout",
          "text": [
            "My name is Anmol, and I am 20 years old.\n"
          ]
        }
      ]
    },
    {
      "cell_type": "markdown",
      "source": [
        "3  What are the different ways to define and call a function in Python?\n",
        "-  Functions are defined using the def keyword, followed by the function name, parameters (if any), and a block of code."
      ],
      "metadata": {
        "id": "z6I4SDUZBVXT"
      }
    },
    {
      "cell_type": "code",
      "source": [
        "def greet(name):\n",
        "    print(f\"Hello, {name}!\")\n",
        "greet(\"Anmol\")"
      ],
      "metadata": {
        "colab": {
          "base_uri": "https://localhost:8080/"
        },
        "id": "hzfkvZMIB2rR",
        "outputId": "19ed85b0-d7bf-48f0-8490-484f0afdf22e"
      },
      "execution_count": null,
      "outputs": [
        {
          "output_type": "stream",
          "name": "stdout",
          "text": [
            "Hello, Anmol!\n"
          ]
        }
      ]
    },
    {
      "cell_type": "markdown",
      "source": [
        "4  What is the purpose of the `return` statement in a Python function?\n",
        " -  The primary purpose of the return statement is to send a value (or values) from the function back to the caller. This allows the result of a computation or operation performed within the function to be used elsewhere in the program."
      ],
      "metadata": {
        "id": "7bLXwlucCLxv"
      }
    },
    {
      "cell_type": "code",
      "source": [
        "def add(a, b):\n",
        "    return a + b\n",
        "\n",
        "result = add(3, 55)\n",
        "print(result)\n"
      ],
      "metadata": {
        "colab": {
          "base_uri": "https://localhost:8080/"
        },
        "id": "gZSCUFGTChYK",
        "outputId": "003dc57b-5202-4fbb-a098-402212bc6898"
      },
      "execution_count": null,
      "outputs": [
        {
          "output_type": "stream",
          "name": "stdout",
          "text": [
            "58\n"
          ]
        }
      ]
    },
    {
      "cell_type": "markdown",
      "source": [
        "5 What are iterators in Python and how do they differ from iterables?\n",
        " -  An iterable is any object in Python that can be \"iterated over,\" meaning you can access its elements one at a time.\n",
        " -  An iterator is an object that represents a stream of data. It produces one value at a time when you call its __next__() method (or use next())."
      ],
      "metadata": {
        "id": "piwTKwrtCorj"
      }
    },
    {
      "cell_type": "code",
      "source": [
        "# A list is an iterable\n",
        "my_list = [1, 2, 3, 4, 5]\n",
        "for item in my_list:\n",
        "    print(item)\n"
      ],
      "metadata": {
        "colab": {
          "base_uri": "https://localhost:8080/"
        },
        "id": "-1yr9ebZD3tl",
        "outputId": "1dc14933-72fe-46ad-dc5a-fd711449e155"
      },
      "execution_count": null,
      "outputs": [
        {
          "output_type": "stream",
          "name": "stdout",
          "text": [
            "1\n",
            "2\n",
            "3\n",
            "4\n",
            "5\n"
          ]
        }
      ]
    },
    {
      "cell_type": "code",
      "source": [
        "#iterato\n",
        "my_list = [1, 2, 3]\n",
        "iterator = iter(my_list)\n",
        "\n",
        "print(next(iterator))\n",
        "print(next(iterator))\n",
        "print(next(iterator))"
      ],
      "metadata": {
        "colab": {
          "base_uri": "https://localhost:8080/"
        },
        "id": "6NPhYK8SED3A",
        "outputId": "59bd6ef2-0958-4ddb-fd8c-d533f27daca5"
      },
      "execution_count": null,
      "outputs": [
        {
          "output_type": "stream",
          "name": "stdout",
          "text": [
            "1\n",
            "2\n",
            "3\n"
          ]
        }
      ]
    },
    {
      "cell_type": "markdown",
      "source": [
        "6  Explain the concept of generators in Python and how they are defined.\n",
        " -  Generators in Python are a special type of iterable that allow you to produce values one at a time using the yield keyword. They provide an efficient way to work with large datasets or infinite sequences without having to create and store the entire sequence in memory.\n",
        "  A generator is a type of iterator that generates values lazily, meaning it produces values on demand instead of computing and storing them all at once.\n",
        "Generators are defined using a generator function or generator expression."
      ],
      "metadata": {
        "id": "yyIPoV3lEaer"
      }
    },
    {
      "cell_type": "code",
      "source": [
        "gen_exp = (x ** 2 for x in range(5))\n",
        "print(next(gen_exp))\n",
        "print(next(gen_exp))\n"
      ],
      "metadata": {
        "colab": {
          "base_uri": "https://localhost:8080/"
        },
        "id": "YHHu3O-tE3sw",
        "outputId": "6fbc3c6f-4d40-4b8d-a790-a3ee431fe74f"
      },
      "execution_count": null,
      "outputs": [
        {
          "output_type": "stream",
          "name": "stdout",
          "text": [
            "0\n",
            "1\n"
          ]
        }
      ]
    },
    {
      "cell_type": "markdown",
      "source": [
        "7 What are the advantages of using generators over regular functions?\n",
        " -  Using generators in Python offers several advantages over regular functions, especially when dealing with large datasets, infinite sequences, or memory-intensive operations.\n",
        " -  Memory Efficiency:\n",
        "-  Generators do not store all the values in memory; they generate them on demand.\n",
        "Useful for processing large datasets or infinite streams.\n",
        " -  Simpler Syntax:\n",
        "\n",
        "  -  Generators can simplify code for sequences or pipelines, replacing manual state management with yield."
      ],
      "metadata": {
        "id": "51yp2p5QFPrx"
      }
    },
    {
      "cell_type": "markdown",
      "source": [
        "8  What is a lambda function in Python and when is it typically used?\n",
        " -  A lambda function in Python is a small, anonymous function that is defined using the lambda keyword. It can take any number of arguments but can only contain a single expression. The result of the expression is automatically returned."
      ],
      "metadata": {
        "id": "xplmhjdWGH-a"
      }
    },
    {
      "cell_type": "code",
      "source": [
        "add = lambda x, y: x + y\n",
        "\n",
        "result = add(45, 76)\n",
        "print(result)\n"
      ],
      "metadata": {
        "colab": {
          "base_uri": "https://localhost:8080/"
        },
        "id": "3bzEgQ9IGfO6",
        "outputId": "cafa9f01-c5bc-421e-efe6-affc995dff4e"
      },
      "execution_count": null,
      "outputs": [
        {
          "output_type": "stream",
          "name": "stdout",
          "text": [
            "121\n"
          ]
        }
      ]
    },
    {
      "cell_type": "markdown",
      "source": [
        "9  Explain the purpose and usage of the `map()` function in Python.\n",
        " -  The map() function in Python is a built-in function that applies a given function to each item of an iterable and returns a map object (an iterator) that yields the results.\n",
        "\n",
        " -  Purpose of map()\n",
        "-  The purpose of the map() function is to transform or apply a function to all elements in an iterable. This allows you to process each item in an iterable in a clean, efficient, and concise manner, without the need for writing explicit loops.\n",
        "\n"
      ],
      "metadata": {
        "id": "vS65f7-QG0RQ"
      }
    },
    {
      "cell_type": "code",
      "source": [
        "list1 = [1, 2, 3]\n",
        "list2 = [4, 5, 6]\n",
        "\n",
        "result = map(lambda x, y: x + y, list1, list2)\n",
        "print(list(result))"
      ],
      "metadata": {
        "colab": {
          "base_uri": "https://localhost:8080/"
        },
        "id": "Vha4-rEhHELY",
        "outputId": "e8890ff9-5b85-4b3c-add6-4e5c893d8528"
      },
      "execution_count": null,
      "outputs": [
        {
          "output_type": "stream",
          "name": "stdout",
          "text": [
            "[5, 7, 9]\n"
          ]
        }
      ]
    },
    {
      "cell_type": "markdown",
      "source": [
        "10  What is the difference between `map()`, `reduce()`, and `filter()` functions in Python?\n",
        " -   map() Function\n",
        "Purpose: The map() function is used to apply a given function to every item in an iterable (or multiple iterables) and return a new iterable (map object) containing the results.\n",
        " -  reduce() Function\n",
        "Purpose: The reduce() function is used to apply a binary function (a function that takes two arguments) cumulatively to the items of an iterable, reducing the iterable to a single value.\n",
        " -  filter() Function\n",
        "Purpose: The filter() function is used to filter out elements from an iterable based on a given condition (a function that returns True or False). It returns a new iterable that only contains the elements where the function returns True."
      ],
      "metadata": {
        "id": "FtyVUe03HhN-"
      }
    },
    {
      "cell_type": "code",
      "source": [
        "# Map\n",
        "numbers = [1, 2, 3, 4]\n",
        "squared = map(lambda x: x ** 2, numbers)\n",
        "print(list(squared))\n"
      ],
      "metadata": {
        "colab": {
          "base_uri": "https://localhost:8080/"
        },
        "id": "RJZp2uE0IO3u",
        "outputId": "f106c14b-366f-436c-896e-1bf15c5a8bae"
      },
      "execution_count": null,
      "outputs": [
        {
          "output_type": "stream",
          "name": "stdout",
          "text": [
            "[1, 4, 9, 16]\n"
          ]
        }
      ]
    },
    {
      "cell_type": "code",
      "source": [
        "# Reduce\n",
        "from functools import reduce\n",
        "numbers = [1, 2, 3, 4]\n",
        "total = reduce(lambda x, y: x + y, numbers)\n",
        "print(total)  # Output: 10 (1 + 2 + 3 + 4)\n"
      ],
      "metadata": {
        "colab": {
          "base_uri": "https://localhost:8080/"
        },
        "id": "PY8Q7t3jIUHR",
        "outputId": "cbcf5f21-b1c1-4f19-9767-4a684691c8c2"
      },
      "execution_count": null,
      "outputs": [
        {
          "output_type": "stream",
          "name": "stdout",
          "text": [
            "10\n"
          ]
        }
      ]
    },
    {
      "cell_type": "code",
      "source": [
        "# Filter\n",
        "numbers = [1, 2, 3, 4, 5, 6]\n",
        "even_numbers = filter(lambda x: x % 2 == 0, numbers)\n",
        "print(list(even_numbers))"
      ],
      "metadata": {
        "colab": {
          "base_uri": "https://localhost:8080/"
        },
        "id": "xaWRv6TUIi7U",
        "outputId": "80083da4-1651-45fa-db09-7e196a7d9998"
      },
      "execution_count": null,
      "outputs": [
        {
          "output_type": "stream",
          "name": "stdout",
          "text": [
            "[2, 4, 6]\n"
          ]
        }
      ]
    },
    {
      "cell_type": "markdown",
      "source": [
        "11 Using pen & Paper write the internal mechanism for sum operation using  reduce function on this given\n",
        "list:[47,11,42,13];\n",
        " -  The reduce() function applies a binary function cumulatively to the items of an iterable, reducing them to a single value. Let's break down the sum operation using reduce() on the list [47, 11, 42, 13].\n",
        "-  Operation:\n",
        "We want to compute the sum of the numbers in the list using the reduce() function. For this, we'll use a lambda function that adds two numbers: lambda x, y: x + y.\n",
        "\n",
        " - Step-by-Step Mechanism (Pen & Paper):\n",
        "-  We will apply the function cumulatively:\n",
        "\n",
        "-  Initial List: [47, 11, 42, 13]\n",
        "Binary function: lambda x, y: x + y\n",
        " -   Step 1: First, 47 and 11 are combined.\n",
        "Apply the function to the first two elements:\n",
        "47 + 11 = 58\n",
        "So, after the first step, the result is 58.\n",
        " -  Step 2: Now, the result (58) and the next element (42) are combined.\n",
        "Apply the function to 58 and 42:\n",
        "58 + 42 = 100\n",
        "So, after the second step, the result is 100.\n",
        " - Step 3: Finally, the result (100) and the last element (13) are combined.\n",
        "Apply the function to 100 and 13:\n",
        "100 + 13 = 113\n",
        "So, after the third step, the result is 113.\n",
        " - Final Result: 113\n",
        "\n",
        "# I am not able to uplode image that,s why i am solveing this question on google colab"
      ],
      "metadata": {
        "id": "tHeiae-GNtR-"
      }
    },
    {
      "cell_type": "markdown",
      "source": [
        "# Practical Questions:"
      ],
      "metadata": {
        "id": "dGybe073SLZa"
      }
    },
    {
      "cell_type": "markdown",
      "source": [
        "1  Write a Python function that takes a list of numbers as input and returns the sum of all even numbers in\n",
        "the list."
      ],
      "metadata": {
        "id": "CnODi3C4SSjZ"
      }
    },
    {
      "cell_type": "code",
      "source": [
        "def sum_of_even_numbers(numbers):\n",
        "\n",
        "    even_numbers = [num for num in numbers if num % 2 == 0]\n",
        "    return sum(even_numbers)\n",
        "\n",
        "\n",
        "numbers = [47, 11, 42, 13, 8, 22]\n",
        "result = sum_of_even_numbers(numbers)\n",
        "print(result)\n"
      ],
      "metadata": {
        "colab": {
          "base_uri": "https://localhost:8080/"
        },
        "id": "LqeUkJHpSV8V",
        "outputId": "877ca99e-bd3d-4a35-9c26-c828f8962231"
      },
      "execution_count": null,
      "outputs": [
        {
          "output_type": "stream",
          "name": "stdout",
          "text": [
            "72\n"
          ]
        }
      ]
    },
    {
      "cell_type": "markdown",
      "source": [
        "2 Create a Python function that accepts a string and returns the reverse of that string.\n"
      ],
      "metadata": {
        "id": "7sbo4MxkSgtw"
      }
    },
    {
      "cell_type": "code",
      "source": [
        "def reverse_string(s):\n",
        "    return s[::-1]\n",
        "\n",
        "input_string = \"hello\"\n",
        "reversed_string = reverse_string(input_string)\n",
        "print(reversed_string)\n"
      ],
      "metadata": {
        "colab": {
          "base_uri": "https://localhost:8080/"
        },
        "id": "xYGcC3oVSlza",
        "outputId": "4f2b8b77-2283-4d4e-d8df-be95350a5302"
      },
      "execution_count": null,
      "outputs": [
        {
          "output_type": "stream",
          "name": "stdout",
          "text": [
            "olleh\n"
          ]
        }
      ]
    },
    {
      "cell_type": "markdown",
      "source": [
        "3  Implement a Python function that takes a list of integers and returns a new list containing the squares of\n",
        "each number."
      ],
      "metadata": {
        "id": "1u7uT-KqSthO"
      }
    },
    {
      "cell_type": "code",
      "source": [
        "def square_numbers(numbers):\n",
        "    return [num ** 2 for num in numbers]\n",
        "\n",
        "input_list = [1, 2, 3, 4, 5]\n",
        "squared_list = square_numbers(input_list)\n",
        "print(squared_list)\n"
      ],
      "metadata": {
        "colab": {
          "base_uri": "https://localhost:8080/"
        },
        "id": "mVtZMTt4S2m7",
        "outputId": "4ecb17fa-125a-40b4-addb-29d8a5a20172"
      },
      "execution_count": null,
      "outputs": [
        {
          "output_type": "stream",
          "name": "stdout",
          "text": [
            "[1, 4, 9, 16, 25]\n"
          ]
        }
      ]
    },
    {
      "cell_type": "markdown",
      "source": [
        "4  Write a Python function that checks if a given number is prime or not from 1 to 200."
      ],
      "metadata": {
        "id": "KQ0X1ceKTGhz"
      }
    },
    {
      "cell_type": "code",
      "source": [
        "def is_prime(num):\n",
        "    if num <= 1:\n",
        "        return False\n",
        "    for i in range(2, int(num ** 0.5) + 1):\n",
        "        if num % i == 0:\n",
        "            return False\n",
        "    return True\n",
        "\n",
        "prime_numbers = [num for num in range(1, 201) if is_prime(num)]\n",
        "print(prime_numbers)\n"
      ],
      "metadata": {
        "colab": {
          "base_uri": "https://localhost:8080/"
        },
        "id": "lZmaHDhqTHFz",
        "outputId": "d92fbf76-cded-494b-8cb3-3f36a6946ce7"
      },
      "execution_count": null,
      "outputs": [
        {
          "output_type": "stream",
          "name": "stdout",
          "text": [
            "[2, 3, 5, 7, 11, 13, 17, 19, 23, 29, 31, 37, 41, 43, 47, 53, 59, 61, 67, 71, 73, 79, 83, 89, 97, 101, 103, 107, 109, 113, 127, 131, 137, 139, 149, 151, 157, 163, 167, 173, 179, 181, 191, 193, 197, 199]\n"
          ]
        }
      ]
    },
    {
      "cell_type": "markdown",
      "source": [
        "5  Create an iterator class in Python that generates the Fibonacci sequence up to a specified number of\n",
        "terms.\n",
        "\n"
      ],
      "metadata": {
        "id": "lb88Kp2ETTYH"
      }
    },
    {
      "cell_type": "code",
      "source": [
        "class FibonacciIterator:\n",
        "    def __init__(self, n):\n",
        "        \"\"\"Initialize the iterator with the number of terms to generate.\"\"\"\n",
        "        self.n = n\n",
        "        self.a, self.b = 0, 1\n",
        "        self.count = 0\n",
        "\n",
        "    def __iter__(self):\n",
        "        \"\"\"Return the iterator object itself.\"\"\"\n",
        "        return self\n",
        "\n",
        "    def __next__(self):\n",
        "        \"\"\"Return the next Fibonacci number.\"\"\"\n",
        "        if self.count >= self.n:\n",
        "            raise StopIteration\n",
        "        else:\n",
        "            fib_number = self.a\n",
        "            self.a, self.b = self.b, self.a + self.b\n",
        "            self.count += 1\n",
        "            return fib_number\n",
        "\n",
        "n_terms = 10\n",
        "fibonacci_sequence = FibonacciIterator(n_terms)\n",
        "\n",
        "for num in fibonacci_sequence:\n",
        "    print(num)\n"
      ],
      "metadata": {
        "colab": {
          "base_uri": "https://localhost:8080/"
        },
        "id": "dBzFtRQOTaUG",
        "outputId": "a8e00ecd-ce50-4123-e5e8-9b2def5268ca"
      },
      "execution_count": null,
      "outputs": [
        {
          "output_type": "stream",
          "name": "stdout",
          "text": [
            "0\n",
            "1\n",
            "1\n",
            "2\n",
            "3\n",
            "5\n",
            "8\n",
            "13\n",
            "21\n",
            "34\n"
          ]
        }
      ]
    },
    {
      "cell_type": "markdown",
      "source": [
        "6 Write a generator function in Python that yields the powers of 2 up to a given exponent"
      ],
      "metadata": {
        "id": "pMIWk7V6Tmel"
      }
    },
    {
      "cell_type": "code",
      "source": [
        "def powers_of_2(exponent):\n",
        "    \"\"\"Generator that yields powers of 2 up to the given exponent.\"\"\"\n",
        "    for i in range(exponent + 1):\n",
        "        yield 2 ** i\n",
        "\n",
        "exponent = 5\n",
        "for power in powers_of_2(exponent):\n",
        "    print(power)\n"
      ],
      "metadata": {
        "colab": {
          "base_uri": "https://localhost:8080/"
        },
        "id": "EvG_DzNRTyIi",
        "outputId": "0a7e8ca6-f40a-47b2-debd-28308e897e00"
      },
      "execution_count": null,
      "outputs": [
        {
          "output_type": "stream",
          "name": "stdout",
          "text": [
            "1\n",
            "2\n",
            "4\n",
            "8\n",
            "16\n",
            "32\n"
          ]
        }
      ]
    },
    {
      "cell_type": "markdown",
      "source": [
        "7  Implement a generator function that reads a file line by line and yields each line as a string."
      ],
      "metadata": {
        "id": "-FFiAs0WT3n0"
      }
    },
    {
      "cell_type": "code",
      "source": [
        "# I don,t under stand this question\n"
      ],
      "metadata": {
        "id": "SM-Rs4R-T-m3"
      },
      "execution_count": null,
      "outputs": []
    },
    {
      "cell_type": "markdown",
      "source": [
        "8 Use a lambda function in Python to sort a list of tuples based on the second element of each tuple."
      ],
      "metadata": {
        "id": "BWQ9oPo1U0rH"
      }
    },
    {
      "cell_type": "code",
      "source": [
        "tuple_list = [(1, 4), (3, 1), (5, 9), (2, 6)]\n",
        "\n",
        "sorted_list = sorted(tuple_list, key=lambda x: x[1])\n",
        "\n",
        "print(sorted_list)"
      ],
      "metadata": {
        "colab": {
          "base_uri": "https://localhost:8080/"
        },
        "id": "2ArxmMb4U7TO",
        "outputId": "a42860bd-e298-49a9-baba-b417d79cb9bd"
      },
      "execution_count": null,
      "outputs": [
        {
          "output_type": "stream",
          "name": "stdout",
          "text": [
            "[(3, 1), (1, 4), (2, 6), (5, 9)]\n"
          ]
        }
      ]
    },
    {
      "cell_type": "markdown",
      "source": [
        "9  Write a Python program that uses `map()` to convert a list of temperatures from Celsius to Fahrenheit."
      ],
      "metadata": {
        "id": "H97eL6lxVMTP"
      }
    },
    {
      "cell_type": "code",
      "source": [
        "def celsius_to_fahrenheit(celsius):\n",
        "    return (celsius * 9/5) + 32\n",
        "\n",
        "celsius_temperatures = [0, 20, 30, 40, 100]\n",
        "\n",
        "fahrenheit_temperatures = list(map(celsius_to_fahrenheit, celsius_temperatures))\n",
        "\n",
        "print(fahrenheit_temperatures)\n"
      ],
      "metadata": {
        "colab": {
          "base_uri": "https://localhost:8080/"
        },
        "id": "3-lpGgVJVQwd",
        "outputId": "93fa98f9-93b6-482a-88ed-f74c53e54dfb"
      },
      "execution_count": null,
      "outputs": [
        {
          "output_type": "stream",
          "name": "stdout",
          "text": [
            "[32.0, 68.0, 86.0, 104.0, 212.0]\n"
          ]
        }
      ]
    },
    {
      "cell_type": "markdown",
      "source": [
        "10  Create a Python program that uses `filter()` to remove all the vowels from a given string."
      ],
      "metadata": {
        "id": "w0-ktwt5VpbY"
      }
    },
    {
      "cell_type": "code",
      "source": [
        "def is_not_vowel(char):\n",
        "    return char.lower() not in 'aeiou'\n",
        "\n",
        "input_string = \"Hello, World!\"\n",
        "\n",
        "filtered_string = ''.join(filter(is_not_vowel, input_string))\n",
        "\n",
        "print(filtered_string)\n"
      ],
      "metadata": {
        "colab": {
          "base_uri": "https://localhost:8080/"
        },
        "id": "tVCICBXxVt8g",
        "outputId": "e6d36850-67c4-4911-ae6d-863624bedcdd"
      },
      "execution_count": null,
      "outputs": [
        {
          "output_type": "stream",
          "name": "stdout",
          "text": [
            "Hll, Wrld!\n"
          ]
        }
      ]
    },
    {
      "cell_type": "markdown",
      "source": [
        "11  Imagine an accounting routine used in a book shop. It works on a list with sublists, which look like this:"
      ],
      "metadata": {
        "id": "SmRD_4slV51H"
      }
    },
    {
      "cell_type": "code",
      "source": [
        "orders = [\n",
        "    [34587, \"Learning Python, Mark Lutz\", 4, 5.00],\n",
        "    [98762, \"Programming Python, Mark Lutz\", 3, 56.80],\n",
        "    [77226, \"Head First Python, Paul Barry\", 1, 32.95],\n",
        "    [88112, \"Einführung in Python3, Bernd Klein\", 2, 24.99]\n",
        "]\n",
        "\n",
        "calculate_order_value = lambda order: (order[0], order[3] * order[2] + 10 if order[3] * order[2] < 100 else order[3] * order[2])\n",
        "\n",
        "result = list(map(calculate_order_value, orders))\n",
        "\n",
        "print(result)\n"
      ],
      "metadata": {
        "colab": {
          "base_uri": "https://localhost:8080/"
        },
        "id": "bJx6YV3nWynQ",
        "outputId": "fb48f79e-579e-4ad2-df2d-189894fce630"
      },
      "execution_count": null,
      "outputs": [
        {
          "output_type": "stream",
          "name": "stdout",
          "text": [
            "[(34587, 30.0), (98762, 170.39999999999998), (77226, 42.95), (88112, 59.98)]\n"
          ]
        }
      ]
    }
  ]
}